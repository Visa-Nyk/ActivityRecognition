{
 "cells": [
  {
   "cell_type": "code",
   "execution_count": 1,
   "id": "b30a5ef3",
   "metadata": {},
   "outputs": [],
   "source": [
    "import os\n",
    "from collections import defaultdict\n",
    "\n",
    "import numpy as np\n",
    "from sklearn.preprocessing import StandardScaler\n",
    "from sklearn.pipeline import make_pipeline\n",
    "from sklearn.ensemble import RandomForestClassifier\n",
    "from sklearn.linear_model import LogisticRegression\n",
    "from sklearn.naive_bayes import GaussianNB\n",
    "from sklearn.neighbors import KNeighborsClassifier\n",
    "from sklearn.metrics import confusion_matrix, accuracy_score\n",
    "from sklearn.inspection import permutation_importance\n",
    "from sklearn.svm import SVC\n",
    "import pandas as pd\n",
    "import matplotlib.pyplot as plt\n",
    "from scipy.stats import spearmanr\n",
    "from scipy.cluster import hierarchy\n",
    "\n",
    "%matplotlib inline\n",
    "plt.rcParams['figure.figsize'] = [10,10]"
   ]
  },
  {
   "cell_type": "markdown",
   "id": "3a6b9e92",
   "metadata": {},
   "source": [
    "# Loading data"
   ]
  },
  {
   "cell_type": "code",
   "execution_count": 2,
   "id": "bcee000d",
   "metadata": {},
   "outputs": [],
   "source": [
    "data = {}\n",
    "for file in os.listdir(\"./features\"):\n",
    "    df= pd.read_csv(os.path.join(\"features\", file), index_col = 0)\n",
    "    df[\"activity\"] = file.split(\"_\")[0]\n",
    "    data[file.split(\".\")[0]] = df\n",
    "    "
   ]
  },
  {
   "cell_type": "markdown",
   "id": "d1e63a52",
   "metadata": {},
   "source": [
    "At the moment only bike data has more than one dataset so the test data for the other activities is created by taking the last 30% of the 5-second epochs from the data. Additional data with different mobile phone placement, different participants etc. would be interesting and would probably make the classification a lot more difficult."
   ]
  },
  {
   "cell_type": "code",
   "execution_count": 3,
   "id": "350bede7",
   "metadata": {},
   "outputs": [],
   "source": [
    "train, test = data[\"bike_2\"], data[\"bike_1\"]\n",
    "for key in data:\n",
    "    if \"bike\" not in key:\n",
    "        train = train.append(data[key][:int(len(data[key])*.7)], ignore_index = True)\n",
    "        test = test.append(data[key][int(len(data[key])*.7):], ignore_index = True)\n",
    "train_y, train_x = train[\"activity\"], train.drop(columns = \"activity\")\n",
    "test_y, test_x = test[\"activity\"], test.drop(columns = \"activity\")"
   ]
  },
  {
   "cell_type": "markdown",
   "id": "a58fd04a",
   "metadata": {},
   "source": [
    "# Testing different classifiers"
   ]
  },
  {
   "cell_type": "markdown",
   "id": "72604e32",
   "metadata": {},
   "source": [
    "Test accuracy and confusion matrices printed for each classifier"
   ]
  },
  {
   "cell_type": "code",
   "execution_count": 4,
   "id": "5b2620f8",
   "metadata": {},
   "outputs": [
    {
     "name": "stdout",
     "output_type": "stream",
     "text": [
      "0.9731543624161074\n"
     ]
    },
    {
     "data": {
      "text/plain": [
       "array([[116,   5,   1,   2],\n",
       "       [  2,  98,   2,   0],\n",
       "       [  0,   0,  69,   0],\n",
       "       [  0,   0,   0, 152]], dtype=int64)"
      ]
     },
     "execution_count": 4,
     "metadata": {},
     "output_type": "execute_result"
    }
   ],
   "source": [
    "model = RandomForestClassifier()\n",
    "model.fit(train_x, train_y)\n",
    "pred = model.predict(test_x)\n",
    "print(model.score(test_x, test_y))\n",
    "confusion_matrix(pred, test_y, labels = [\"bike\", \"walk\", \"car\", \"idle\"])"
   ]
  },
  {
   "cell_type": "code",
   "execution_count": 5,
   "id": "44e47567",
   "metadata": {},
   "outputs": [
    {
     "name": "stdout",
     "output_type": "stream",
     "text": [
      "0.9395973154362416\n"
     ]
    },
    {
     "data": {
      "text/plain": [
       "array([[115,  11,   2,   3],\n",
       "       [  3,  92,   1,   0],\n",
       "       [  0,   0,  69,   7],\n",
       "       [  0,   0,   0, 144]], dtype=int64)"
      ]
     },
     "execution_count": 5,
     "metadata": {},
     "output_type": "execute_result"
    }
   ],
   "source": [
    "model = GaussianNB()\n",
    "model.fit(train_x, train_y)\n",
    "pred = model.predict(test_x)\n",
    "print(model.score(test_x, test_y))\n",
    "confusion_matrix(pred, test_y, labels = [\"bike\", \"walk\", \"car\", \"idle\"])"
   ]
  },
  {
   "cell_type": "code",
   "execution_count": 6,
   "id": "7eaff976",
   "metadata": {},
   "outputs": [
    {
     "name": "stdout",
     "output_type": "stream",
     "text": [
      "0.9798657718120806\n"
     ]
    },
    {
     "data": {
      "text/plain": [
       "array([[116,   3,   0,   1],\n",
       "       [  2, 100,   1,   0],\n",
       "       [  0,   0,  71,   2],\n",
       "       [  0,   0,   0, 151]], dtype=int64)"
      ]
     },
     "execution_count": 6,
     "metadata": {},
     "output_type": "execute_result"
    }
   ],
   "source": [
    "model = make_pipeline(StandardScaler(), LogisticRegression(max_iter = 1000))\n",
    "model.fit(train_x, train_y)\n",
    "pred = model.predict(test_x)\n",
    "print(model.score(test_x, test_y))\n",
    "confusion_matrix(pred, test_y, labels = [\"bike\", \"walk\", \"car\", \"idle\"])"
   ]
  },
  {
   "cell_type": "code",
   "execution_count": 7,
   "id": "4ac268ad",
   "metadata": {},
   "outputs": [
    {
     "name": "stdout",
     "output_type": "stream",
     "text": [
      "0.9753914988814317\n"
     ]
    },
    {
     "data": {
      "text/plain": [
       "array([[116,   3,   0,   2],\n",
       "       [  2, 100,   1,   0],\n",
       "       [  0,   0,  71,   3],\n",
       "       [  0,   0,   0, 149]], dtype=int64)"
      ]
     },
     "execution_count": 7,
     "metadata": {},
     "output_type": "execute_result"
    }
   ],
   "source": [
    "model = make_pipeline(StandardScaler(), SVC(kernel = \"linear\"))\n",
    "model.fit(train_x, train_y)\n",
    "pred = model.predict(test_x)\n",
    "print(model.score(test_x, test_y))\n",
    "confusion_matrix(pred, test_y, labels = [\"bike\", \"walk\", \"car\", \"idle\"])"
   ]
  },
  {
   "cell_type": "code",
   "execution_count": 8,
   "id": "6211f593",
   "metadata": {},
   "outputs": [
    {
     "name": "stdout",
     "output_type": "stream",
     "text": [
      "0.9642058165548099\n"
     ]
    },
    {
     "data": {
      "text/plain": [
       "array([[117,   7,   2,   3],\n",
       "       [  1,  96,   1,   0],\n",
       "       [  0,   0,  68,   1],\n",
       "       [  0,   0,   1, 150]], dtype=int64)"
      ]
     },
     "execution_count": 8,
     "metadata": {},
     "output_type": "execute_result"
    }
   ],
   "source": [
    "model = make_pipeline(StandardScaler(), KNeighborsClassifier())\n",
    "model.fit(train_x, train_y)\n",
    "pred = model.predict(test_x)\n",
    "print(model.score(test_x, test_y))\n",
    "confusion_matrix(pred, test_y, labels = [\"bike\", \"walk\", \"car\", \"idle\"])"
   ]
  },
  {
   "cell_type": "markdown",
   "id": "3e3551db",
   "metadata": {},
   "source": [
    "The classification task seems to be very easy in the current dataset and only the Naive Bayes classifier has any trouble with the classification. As such hyperparameter tuning and further model selection seems unnecessary at the moment. With more data probably would be interesting to include."
   ]
  },
  {
   "cell_type": "markdown",
   "id": "54a014af",
   "metadata": {},
   "source": [
    "## Convolutional neural network approach"
   ]
  },
  {
   "cell_type": "markdown",
   "id": "643bae7f",
   "metadata": {},
   "source": [
    "For the neural network experiment the feature engineering isn't done by hand. Instead the inputs are 5-second epochs of the  raw rotated accelerometer-signals. The neural network architecture consists of 1 2d-convolution layer for handling the signal at first as a 3 (axes) * 100 (5 seconds * 20 samples/second) matrix, 1 1d-convolution-layer and 4 fully connected layers."
   ]
  },
  {
   "cell_type": "code",
   "execution_count": 9,
   "id": "d5398bdc",
   "metadata": {},
   "outputs": [],
   "source": [
    "import NN \n",
    "import pickle\n",
    "with open(\"nn_train.pickle\", \"rb\") as f:\n",
    "    nn_train = pickle.load(f)\n",
    "with open(\"nn_test.pickle\", \"rb\") as f:\n",
    "    nn_test = pickle.load(f)\n",
    "    "
   ]
  },
  {
   "cell_type": "code",
   "execution_count": 48,
   "id": "346fb137",
   "metadata": {},
   "outputs": [
    {
     "name": "stdout",
     "output_type": "stream",
     "text": [
      "epoch: 1/10\n"
     ]
    },
    {
     "name": "stderr",
     "output_type": "stream",
     "text": [
      "G:\\Users\\Business Time\\Tiedostot\\HAR-experiment\\my_sensor_data\\sheish\\NN.py:74: UserWarning: To copy construct from a tensor, it is recommended to use sourceTensor.clone().detach() or sourceTensor.clone().detach().requires_grad_(True), rather than torch.tensor(sourceTensor).\n",
      "  loss = criterion(outputs, torch.tensor(labels))\n"
     ]
    },
    {
     "name": "stdout",
     "output_type": "stream",
     "text": [
      "epoch: 2/10\n",
      "epoch: 3/10\n",
      "epoch: 4/10\n",
      "epoch: 5/10\n",
      "epoch: 6/10\n",
      "epoch: 7/10\n",
      "epoch: 8/10\n",
      "epoch: 9/10\n",
      "epoch: 10/10\n",
      "Finished Training\n"
     ]
    }
   ],
   "source": [
    "model = NN.train(nn_train)"
   ]
  },
  {
   "cell_type": "code",
   "execution_count": 50,
   "id": "73105e24",
   "metadata": {
    "scrolled": true
   },
   "outputs": [
    {
     "name": "stdout",
     "output_type": "stream",
     "text": [
      "0.9024943310657596\n"
     ]
    },
    {
     "data": {
      "text/plain": [
       "array([[ 70,  31,   0,   0],\n",
       "       [  5, 113,   0,   0],\n",
       "       [  0,   3, 149,   0],\n",
       "       [  0,   2,   2,  66]], dtype=int64)"
      ]
     },
     "execution_count": 50,
     "metadata": {},
     "output_type": "execute_result"
    }
   ],
   "source": [
    "y_pred, label = NN.evaluate(model, nn_test)\n",
    "print(accuracy_score(label, y_pred))\n",
    "confusion_matrix(label, y_pred)"
   ]
  },
  {
   "cell_type": "markdown",
   "id": "53ea144f",
   "metadata": {},
   "source": [
    "Seems to fair a bit worse than traditional approaches.\n",
    "TODO: different architectures..."
   ]
  },
  {
   "cell_type": "markdown",
   "id": "1cfc4948",
   "metadata": {},
   "source": [
    "# Feature importance assessment"
   ]
  },
  {
   "cell_type": "markdown",
   "id": "95d6145c",
   "metadata": {},
   "source": [
    "Clustering some of the correlating features together. The aim is to reduce multicollinearity in the features. This makes feature importance calculation more accurate and interpretable. Modified from tutorials found in sklearn documentation."
   ]
  },
  {
   "cell_type": "code",
   "execution_count": 15,
   "id": "9a9de126",
   "metadata": {
    "scrolled": false
   },
   "outputs": [
    {
     "data": {
      "image/png": "[encoded data removed]",
      "text/plain": [
       "<Figure size 864x576 with 2 Axes>"
      ]
     },
     "metadata": {
      "needs_background": "light"
     },
     "output_type": "display_data"
    }
   ],
   "source": [
    "num_clusts = 12\n",
    "fig, (ax1, ax2) = plt.subplots(1, 2, figsize=(12, 8))\n",
    "corr = spearmanr(train_x).correlation\n",
    "\n",
    "corr = (corr + corr.T) / 2\n",
    "np.fill_diagonal(corr, 1)\n",
    "corr = 1 - abs(corr)\n",
    "R, _ = corr.shape \n",
    "condensed_dist=([c for row in range(R) for c in corr[row,row+1:]])\n",
    "    \n",
    "dist_linkage = hierarchy.ward(condensed_dist)\n",
    "clustering = hierarchy.fcluster(dist_linkage, num_clusts, criterion = \"maxclust\")\n",
    "i = 0\n",
    "while len(np.unique(hierarchy.fcluster(dist_linkage, dist_linkage[i][2]))) >= len(np.unique(clustering)):\n",
    "    i += 1\n",
    "    \n",
    "dendro = hierarchy.dendrogram(\n",
    "    dist_linkage, color_threshold = dist_linkage[i-1][2], labels=test_x.columns, ax=ax1, leaf_rotation=90\n",
    ")\n",
    "dendro_idx = np.arange(0, len(dendro[\"ivl\"]))\n",
    "\n",
    "ax2.imshow(corr[dendro[\"leaves\"], :][:, dendro[\"leaves\"]])\n",
    "ax2.set_xticks(dendro_idx)\n",
    "ax2.set_yticks(dendro_idx)\n",
    "ax2.set_xticklabels(dendro[\"ivl\"], rotation=\"vertical\")\n",
    "ax2.set_yticklabels(dendro[\"ivl\"])\n",
    "fig.tight_layout()\n",
    "plt.show()"
   ]
  },
  {
   "cell_type": "markdown",
   "id": "30b54edc",
   "metadata": {},
   "source": [
    "Select the most important feature from each cluster using the importance value of the features in a random forest trained on all the features. The random forest feature importance takes into account the amount of times each feature are used in a split."
   ]
  },
  {
   "cell_type": "code",
   "execution_count": 38,
   "id": "79afc0ab",
   "metadata": {},
   "outputs": [],
   "source": [
    "model = RandomForestClassifier()\n",
    "model.fit(train_x, train_y)\n",
    "clusters = defaultdict(list)\n",
    "for ind, cluster_id in enumerate(clustering):\n",
    "    clusters[cluster_id].append(ind)\n",
    "    \n",
    "sel = []    \n",
    "for cluster_id in clusters:\n",
    "    cluster = clusters[cluster_id]\n",
    "    sel_ind = cluster[model.feature_importances_[cluster].argmax()]\n",
    "    sel.append(test_x.columns[sel_ind])    "
   ]
  },
  {
   "cell_type": "markdown",
   "id": "f7f1d4ed",
   "metadata": {},
   "source": [
    "Train a model using the pruned featureset."
   ]
  },
  {
   "cell_type": "code",
   "execution_count": 40,
   "id": "64098aaf",
   "metadata": {},
   "outputs": [
    {
     "name": "stdout",
     "output_type": "stream",
     "text": [
      "0.9753914988814317\n"
     ]
    },
    {
     "data": {
      "text/plain": [
       "array([[118,   7,   0,   3],\n",
       "       [  0,  96,   1,   0],\n",
       "       [  0,   0,  71,   0],\n",
       "       [  0,   0,   0, 151]], dtype=int64)"
      ]
     },
     "execution_count": 40,
     "metadata": {},
     "output_type": "execute_result"
    }
   ],
   "source": [
    "model_pruned = RandomForestClassifier()\n",
    "model_pruned.fit(train_x[sel], train_y)\n",
    "pred = model_pruned.predict(test_x[sel])\n",
    "print(model_pruned.score(test_x[sel], test_y))\n",
    "confusion_matrix(pred, test_y, labels = [\"bike\", \"walk\", \"car\", \"idle\"])"
   ]
  },
  {
   "cell_type": "markdown",
   "id": "2607a668",
   "metadata": {},
   "source": [
    "Does not seem to affect the results much.\n",
    "\n",
    "Next we calculate the permutation importances for the random forest model trained using the pruned featureset. The permutation importance tells how much randomizing a given feature affects the final accuracy of the model."
   ]
  },
  {
   "cell_type": "code",
   "execution_count": 42,
   "id": "04f2bb38",
   "metadata": {},
   "outputs": [
    {
     "data": {
      "image/png": "[encoded data removed]",
      "text/plain": [
       "<Figure size 720x720 with 1 Axes>"
      ]
     },
     "metadata": {
      "needs_background": "light"
     },
     "output_type": "display_data"
    }
   ],
   "source": [
    "perm_imp = permutation_importance(model_pruned, test_x[sel], test_y, n_repeats=10)\n",
    "idx = perm_imp.importances_mean.argsort()\n",
    "plt.boxplot(\n",
    "    perm_imp.importances[idx].T,\n",
    "    vert = False,\n",
    "    labels = np.array(test_x.columns)[idx],\n",
    ")\n",
    "plt.tight_layout()"
   ]
  },
  {
   "cell_type": "markdown",
   "id": "86849c98",
   "metadata": {},
   "source": [
    "The most important features seem to be the interquartile ranges on the z- and y-axes."
   ]
  }
 ],
 "metadata": {
  "kernelspec": {
   "display_name": "Python 3",
   "language": "python",
   "name": "python3"
  },
  "language_info": {
   "codemirror_mode": {
    "name": "ipython",
    "version": 3
   },
   "file_extension": ".py",
   "mimetype": "text/x-python",
   "name": "python",
   "nbconvert_exporter": "python",
   "pygments_lexer": "ipython3",
   "version": "3.8.8"
  },
  "widgets": {
   "application/vnd.jupyter.widget-state+json": {
    "state": {},
    "version_major": 2,
    "version_minor": 0
   }
  }
 },
 "nbformat": 4,
 "nbformat_minor": 5
}
