{
 "cells": [
  {
   "cell_type": "code",
   "execution_count": 47,
   "id": "b30a5ef3",
   "metadata": {},
   "outputs": [],
   "source": [
    "from sklearn.preprocessing import StandardScaler\n",
    "from sklearn.pipeline import make_pipeline\n",
    "from sklearn.ensemble import RandomForestClassifier\n",
    "from sklearn.linear_model import LogisticRegression\n",
    "from sklearn.naive_bayes import GaussianNB\n",
    "from sklearn.neighbors import KNeighborsClassifier\n",
    "from sklearn.metrics import confusion_matrix, accuracy_score\n",
    "from sklearn.svm import SVC\n",
    "import pandas as pd\n",
    "import os"
   ]
  },
  {
   "cell_type": "code",
   "execution_count": 3,
   "id": "bcee000d",
   "metadata": {},
   "outputs": [],
   "source": [
    "data = {}\n",
    "for file in os.listdir(\"./features\"):\n",
    "    df= pd.read_csv(os.path.join(\"features\", file), index_col = 0)\n",
    "    df[\"activity\"] = file.split(\"_\")[0]\n",
    "    data[file.split(\".\")[0]] = df\n",
    "    "
   ]
  },
  {
   "cell_type": "code",
   "execution_count": 4,
   "id": "350bede7",
   "metadata": {},
   "outputs": [],
   "source": [
    "train, test = data[\"bike_2\"], data[\"bike_1\"]\n",
    "for key in data:\n",
    "    if \"bike\" not in key:\n",
    "        train = train.append(data[key][:int(len(data[key])*.7)], ignore_index = True)\n",
    "        test = test.append(data[key][int(len(data[key])*.7):], ignore_index = True)\n",
    "train_y, train_x = train[\"activity\"], train.drop(columns = \"activity\")\n",
    "test_y, test_x = test[\"activity\"], test.drop(columns = \"activity\")"
   ]
  },
  {
   "cell_type": "code",
   "execution_count": 5,
   "id": "5b2620f8",
   "metadata": {},
   "outputs": [
    {
     "name": "stdout",
     "output_type": "stream",
     "text": [
      "0.970917225950783\n"
     ]
    },
    {
     "data": {
      "text/plain": [
       "array([[115,   5,   1,   2],\n",
       "       [  3,  98,   2,   0],\n",
       "       [  0,   0,  69,   0],\n",
       "       [  0,   0,   0, 152]], dtype=int64)"
      ]
     },
     "execution_count": 5,
     "metadata": {},
     "output_type": "execute_result"
    }
   ],
   "source": [
    "model = RandomForestClassifier()\n",
    "model.fit(train_x, train_y)\n",
    "pred = model.predict(test_x)\n",
    "print(model.score(test_x, test_y))\n",
    "confusion_matrix(pred, test_y, labels = [\"bike\", \"walk\", \"car\", \"idle\"])"
   ]
  },
  {
   "cell_type": "code",
   "execution_count": 5,
   "id": "44e47567",
   "metadata": {},
   "outputs": [
    {
     "name": "stdout",
     "output_type": "stream",
     "text": [
      "0.9395973154362416\n"
     ]
    },
    {
     "data": {
      "text/plain": [
       "array([[115,  11,   2,   3],\n",
       "       [  3,  92,   1,   0],\n",
       "       [  0,   0,  69,   7],\n",
       "       [  0,   0,   0, 144]], dtype=int64)"
      ]
     },
     "execution_count": 5,
     "metadata": {},
     "output_type": "execute_result"
    }
   ],
   "source": [
    "model = GaussianNB()\n",
    "model.fit(train_x, train_y)\n",
    "pred = model.predict(test_x)\n",
    "print(model.score(test_x, test_y))\n",
    "confusion_matrix(pred, test_y, labels = [\"bike\", \"walk\", \"car\", \"idle\"])"
   ]
  },
  {
   "cell_type": "code",
   "execution_count": 6,
   "id": "7eaff976",
   "metadata": {},
   "outputs": [
    {
     "name": "stdout",
     "output_type": "stream",
     "text": [
      "0.9798657718120806\n"
     ]
    },
    {
     "data": {
      "text/plain": [
       "array([[116,   3,   0,   1],\n",
       "       [  2, 100,   1,   0],\n",
       "       [  0,   0,  71,   2],\n",
       "       [  0,   0,   0, 151]], dtype=int64)"
      ]
     },
     "execution_count": 6,
     "metadata": {},
     "output_type": "execute_result"
    }
   ],
   "source": [
    "model = make_pipeline(StandardScaler(), LogisticRegression(max_iter = 1000))\n",
    "model.fit(train_x, train_y)\n",
    "pred = model.predict(test_x)\n",
    "print(model.score(test_x, test_y))\n",
    "confusion_matrix(pred, test_y, labels = [\"bike\", \"walk\", \"car\", \"idle\"])"
   ]
  },
  {
   "cell_type": "code",
   "execution_count": 6,
   "id": "4ac268ad",
   "metadata": {},
   "outputs": [
    {
     "name": "stdout",
     "output_type": "stream",
     "text": [
      "0.9753914988814317\n"
     ]
    },
    {
     "data": {
      "text/plain": [
       "array([[116,   3,   0,   2],\n",
       "       [  2, 100,   1,   0],\n",
       "       [  0,   0,  71,   3],\n",
       "       [  0,   0,   0, 149]], dtype=int64)"
      ]
     },
     "execution_count": 6,
     "metadata": {},
     "output_type": "execute_result"
    }
   ],
   "source": [
    "model = make_pipeline(StandardScaler(), SVC(kernel = \"linear\"))\n",
    "model.fit(train_x, train_y)\n",
    "pred = model.predict(test_x)\n",
    "print(model.score(test_x, test_y))\n",
    "confusion_matrix(pred, test_y, labels = [\"bike\", \"walk\", \"car\", \"idle\"])"
   ]
  },
  {
   "cell_type": "code",
   "execution_count": 8,
   "id": "6211f593",
   "metadata": {},
   "outputs": [
    {
     "name": "stdout",
     "output_type": "stream",
     "text": [
      "0.9642058165548099\n"
     ]
    },
    {
     "data": {
      "text/plain": [
       "array([[117,   7,   2,   3],\n",
       "       [  1,  96,   1,   0],\n",
       "       [  0,   0,  68,   1],\n",
       "       [  0,   0,   1, 150]], dtype=int64)"
      ]
     },
     "execution_count": 8,
     "metadata": {},
     "output_type": "execute_result"
    }
   ],
   "source": [
    "model = make_pipeline(StandardScaler(), KNeighborsClassifier())\n",
    "model.fit(train_x, train_y)\n",
    "pred = model.predict(test_x)\n",
    "print(model.score(test_x, test_y))\n",
    "confusion_matrix(pred, test_y, labels = [\"bike\", \"walk\", \"car\", \"idle\"])"
   ]
  },
  {
   "cell_type": "code",
   "execution_count": 35,
   "id": "d5398bdc",
   "metadata": {},
   "outputs": [],
   "source": [
    "import NN \n",
    "import pickle\n",
    "with open(\"nn_train.pickle\", \"rb\") as f:\n",
    "    nn_train = pickle.load(f)\n",
    "with open(\"nn_test.pickle\", \"rb\") as f:\n",
    "    nn_test = pickle.load(f)\n",
    "    "
   ]
  },
  {
   "cell_type": "code",
   "execution_count": null,
   "id": "346fb137",
   "metadata": {},
   "outputs": [
    {
     "name": "stderr",
     "output_type": "stream",
     "text": [
      "G:\\Users\\Business Time\\Tiedostot\\HAR-experiment\\my_sensor_data\\sheish\\NN.py:73: UserWarning: To copy construct from a tensor, it is recommended to use sourceTensor.clone().detach() or sourceTensor.clone().detach().requires_grad_(True), rather than torch.tensor(sourceTensor).\n",
      "  loss = criterion(outputs, torch.tensor(labels))\n"
     ]
    },
    {
     "name": "stdout",
     "output_type": "stream",
     "text": [
      "[1,   100] loss: 0.029\n",
      "[1,   200] loss: 0.014\n",
      "[2,   100] loss: 0.007\n",
      "[2,   200] loss: 0.009\n",
      "[3,   100] loss: 0.004\n",
      "[3,   200] loss: 0.003\n",
      "[4,   100] loss: 0.003\n",
      "[4,   200] loss: 0.004\n",
      "[5,   100] loss: 0.002\n",
      "[5,   200] loss: 0.001\n",
      "[6,   100] loss: 0.001\n",
      "[6,   200] loss: 0.000\n",
      "[7,   100] loss: 0.000\n",
      "[7,   200] loss: 0.001\n"
     ]
    }
   ],
   "source": [
    "model = NN.train(nn_train)"
   ]
  },
  {
   "cell_type": "code",
   "execution_count": 48,
   "id": "73105e24",
   "metadata": {},
   "outputs": [
    {
     "name": "stdout",
     "output_type": "stream",
     "text": [
      "0.9523809523809523\n"
     ]
    },
    {
     "data": {
      "text/plain": [
       "array([[ 91,  10,   0,   0],\n",
       "       [  4, 114,   0,   0],\n",
       "       [  0,   2, 147,   3],\n",
       "       [  1,   1,   0,  68]], dtype=int64)"
      ]
     },
     "execution_count": 48,
     "metadata": {},
     "output_type": "execute_result"
    }
   ],
   "source": [
    "imp.reload(NN)\n",
    "y_pred, label = NN.evaluate(model, nn_test)\n",
    "print(accuracy_score(label, y_pred))\n",
    "confusion_matrix(label, y_pred)"
   ]
  }
 ],
 "metadata": {
  "kernelspec": {
   "display_name": "Python 3",
   "language": "python",
   "name": "python3"
  },
  "language_info": {
   "codemirror_mode": {
    "name": "ipython",
    "version": 3
   },
   "file_extension": ".py",
   "mimetype": "text/x-python",
   "name": "python",
   "nbconvert_exporter": "python",
   "pygments_lexer": "ipython3",
   "version": "3.8.8"
  },
  "widgets": {
   "application/vnd.jupyter.widget-state+json": {
    "state": {},
    "version_major": 2,
    "version_minor": 0
   }
  }
 },
 "nbformat": 4,
 "nbformat_minor": 5
}
